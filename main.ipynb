{
 "cells": [
  {
   "cell_type": "markdown",
   "metadata": {
    "tags": [
     "convert_to_md"
    ]
   },
   "source": [
    "#### Last Recently Used Cache (LRU Cache)"
   ]
  },
  {
   "cell_type": "code",
   "execution_count": 3,
   "metadata": {
    "tags": [
     "convert_to_py"
    ]
   },
   "outputs": [
    {
     "name": "stdout",
     "output_type": "stream",
     "text": [
      "Logging configured in LRUdb\n",
      "11\n"
     ]
    }
   ],
   "source": [
    "from src.notebooks.lib.utils import setup_logging\n",
    "logging = setup_logging(path = 'configs/logging_config.yaml')\n",
    "LOG = logging.getLogger('notebook')\n",
    "LOG.debug('Notebook log.')\n",
    "\n",
    "\n"
   ]
  },
  {
   "cell_type": "code",
   "execution_count": 2,
   "metadata": {
    "tags": [
     "convert_to_py"
    ]
   },
   "outputs": [
    {
     "data": {
      "text/plain": [
       "11"
      ]
     },
     "execution_count": 2,
     "metadata": {},
     "output_type": "execute_result"
    }
   ],
   "source": []
  },
  {
   "cell_type": "markdown",
   "metadata": {},
   "source": [
    "### Write \"Functions and Classes\" Jupyter cell to python file."
   ]
  },
  {
   "cell_type": "code",
   "execution_count": 1,
   "metadata": {},
   "outputs": [
    {
     "name": "stdout",
     "output_type": "stream",
     "text": [
      "Converter successfully wrote 11 lines to src/lib/base_notebook.py\n",
      "Converter successfully wrote 1 lines to src/markdown/base_notebook.md\n"
     ]
    }
   ],
   "source": [
    "\"\"\"Cell metadata needs to be tagged prior to running script. \n",
    "    code tag: 'convert_to_py' \n",
    "    markdown tag: 'convert_to_md' \n",
    "\n",
    "In JupyterLab the tab is on the rights side, two gears.\"\"\"\n",
    "\n",
    "from src.notebooks.lib.utils import notebook2python\n",
    "\n",
    "FILE_NAME = \"main\"\n",
    "\n",
    "notebook2python(FILE_NAME)"
   ]
  },
  {
   "cell_type": "code",
   "execution_count": null,
   "metadata": {},
   "outputs": [],
   "source": []
  }
 ],
 "metadata": {
  "kernelspec": {
   "display_name": "venv",
   "language": "python",
   "name": "python3"
  },
  "language_info": {
   "codemirror_mode": {
    "name": "ipython",
    "version": 3
   },
   "file_extension": ".py",
   "mimetype": "text/x-python",
   "name": "python",
   "nbconvert_exporter": "python",
   "pygments_lexer": "ipython3",
   "version": "3.11.4"
  },
  "orig_nbformat": 4
 },
 "nbformat": 4,
 "nbformat_minor": 2
}
