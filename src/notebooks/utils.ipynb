{
 "cells": [
  {
   "cell_type": "markdown",
   "metadata": {
    "tags": [
     "convert_to_md"
    ]
   },
   "source": [
    "### Functions and Classes"
   ]
  },
  {
   "cell_type": "code",
   "execution_count": 1,
   "metadata": {
    "tags": [
     "convert_to_py"
    ]
   },
   "outputs": [],
   "source": [
    "PACKAGE = 'LRUdb'\n",
    "CWD = f'/Users/Shared/SharedProjects/Projects/LastRecentlyUsedDataBase/{PACKAGE}/'\n",
    "\n",
    "\n",
    "def setup_logging(path: str = 'configs/logging_config.yaml') -> None:\n",
    "\timport logging as log\n",
    "\timport yaml\n",
    "\n",
    "\tdefault_path = CWD + path\n",
    "\n",
    "\twith open(default_path, 'rt') as file:\n",
    "\t\tconfig = yaml.safe_load(file.read())\n",
    "\tlog.config.dictConfig(config)\n",
    "\t\n",
    "\tprint(f'Logging configured in {PACKAGE}')\n",
    "\n",
    "\treturn log\n",
    "\n",
    "\n",
    "def import_util(cwd: str = CWD, paths: list = ['src/lib']) -> None:\n",
    "\t'''Function to ensure import paths are properly updated. '''\n",
    "\timport sys\n",
    "\n",
    "\timport_paths = ['..'] + [cwd + p for p in paths]\n",
    "\n",
    "\tfor i, path in enumerate(import_paths):\n",
    "\t\tif path not in sys.path: \n",
    "\t\t\tsys.path.insert(i, path)\n",
    "\n",
    "\n",
    "def convert_notebook(notebook_path: str, script_path: str, code_type: str = 'code', tag: str = 'convert_to_py') -> str:\n",
    "\t'''Cell metadata needs to be tagged with \"convert_to_py\" or \"convert_to_md\" prior to running script.'''\n",
    "\timport json\n",
    "\t\n",
    "\twith open(notebook_path, 'r') as f:\n",
    "\t\tnotebook = json.load(f)\n",
    "\t\n",
    "\t# Extract code cells\n",
    "\tnotebook_cells = [cell for cell in notebook['cells'] if cell['cell_type'] == code_type]\n",
    "\t\n",
    "\tnotebook_cells = [cell for cell in notebook_cells if 'tags' in cell['metadata']]\n",
    "\t\n",
    "\t# Extract source\n",
    "\tcode = [cell['source'] for cell in notebook_cells if tag in cell['metadata']['tags']]\n",
    "\tlines = len(code[0])\n",
    "\t\n",
    "\t# Flatten list and join code lines\n",
    "\tif code_type == 'code':\n",
    "\t\tcode = '\\n'.join([''.join(cell) for cell in code])\n",
    "\telif code_type == 'markdown':\n",
    "\t\tcode = '\\n\\n'.join([''.join(cell) for cell in code])\n",
    "\t\n",
    "\t# Write to file\n",
    "\twith open(script_path, 'w+') as f:\n",
    "\t\tf.write(code)\n",
    "\t\n",
    "\t# Output\n",
    "\tif len(code) == 0:\n",
    "\t\tprint('No Data written to \"script_path\"')\n",
    "\t\tprint(f'Code cells parsed = {len(notebook_cells)}')\n",
    "\t\tprint(f'Tagged cells parsed = {len(notebook_cells)}\\nLength of source code = {len(code)}\\n')\n",
    "\t\tprint(f'Notebook converter wrote {len(code)} to {script_path}')\n",
    "\t\treturn notebook\n",
    "\telse:\n",
    "\t\tsplit_path = script_path.split('/')\n",
    "\t\tsplit_path = '/'.join(split_path[-3:])\n",
    "\t\tprint(f'Converter successfully wrote {lines} lines to {split_path}')\n",
    "\t\t\n",
    "\n",
    "def notebook2python(filename: str) -> None:\n",
    "\timport pathlib\n",
    "\t\n",
    "\tnotebook_path = CWD + f\"src/notebooks/{filename}.ipynb\"\n",
    "\tscript_path = CWD + f\"src/notebooks/lib/{filename}.py\"\n",
    "\tmarkdown_path = CWD + f\"src/markdown/{filename}.md\"\n",
    "\n",
    "\ttry:\n",
    "\t\tif pathlib.Path(notebook_path).is_file():\n",
    "\t\t\ttest_passed = True\n",
    "\t\telse:\n",
    "\t\t\traise FileNotFoundError(f'File not found. Check \"{filename}\" variable.')\n",
    "\n",
    "\texcept FileNotFoundError as err:\n",
    "\t\tprint(err)\n",
    "\t\ttest_passed = False\n",
    "\t\t\n",
    "\tfinally:\n",
    "\t\tif test_passed:\n",
    "\t\t\tconvert_notebook(notebook_path, script_path, code_type='code', tag='convert_to_py')\n",
    "\t\t\tconvert_notebook(notebook_path, markdown_path, code_type='markdown', tag='convert_to_md')\n",
    "\n"
   ]
  },
  {
   "cell_type": "markdown",
   "metadata": {},
   "source": [
    "### Write \"Functions and Classes\" Jupyter cell to python file."
   ]
  },
  {
   "cell_type": "code",
   "execution_count": 2,
   "metadata": {},
   "outputs": [
    {
     "name": "stdout",
     "output_type": "stream",
     "text": [
      "Converter successfully wrote 91 lines to notebooks/lib/utils.py\n",
      "Converter successfully wrote 1 lines to src/markdown/utils.md\n"
     ]
    }
   ],
   "source": [
    "\"\"\"Cell metadata needs to be tagged prior to running script. \n",
    "    code tag: 'convert_to_py' \n",
    "    markdown tag: 'convert_to_md' \n",
    "\n",
    "In JupyterLab the tab is on the rights side, two gears.\"\"\"\n",
    "\n",
    "FILE_NAME = \"utils\"\n",
    "\n",
    "notebook2python(FILE_NAME)"
   ]
  },
  {
   "cell_type": "code",
   "execution_count": null,
   "metadata": {},
   "outputs": [],
   "source": []
  }
 ],
 "metadata": {
  "kernelspec": {
   "display_name": "venv",
   "language": "python",
   "name": "python3"
  },
  "language_info": {
   "codemirror_mode": {
    "name": "ipython",
    "version": 3
   },
   "file_extension": ".py",
   "mimetype": "text/x-python",
   "name": "python",
   "nbconvert_exporter": "python",
   "pygments_lexer": "ipython3",
   "version": "3.11.4"
  },
  "orig_nbformat": 4
 },
 "nbformat": 4,
 "nbformat_minor": 2
}
